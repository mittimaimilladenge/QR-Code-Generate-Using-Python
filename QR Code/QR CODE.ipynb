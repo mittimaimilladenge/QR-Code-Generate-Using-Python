{
 "cells": [
  {
   "cell_type": "code",
   "execution_count": 2,
   "id": "b227635a",
   "metadata": {},
   "outputs": [],
   "source": [
    "import qrcode\n",
    "from PIL import Image\n",
    "\n",
    "# Data to be encoded\n",
    "data = \"https://mittimaimilladenge.site\"\n",
    "\n",
    "# Create QR Code instance\n",
    "qr = qrcode.QRCode(\n",
    "    version=1,\n",
    "    error_correction=qrcode.constants.ERROR_CORRECT_L,\n",
    "    box_size=10,\n",
    "    border=4,\n",
    ")\n",
    "\n",
    "# Add data to the instance\n",
    "qr.add_data(data)\n",
    "qr.make(fit=True)\n",
    "\n",
    "# Create an image from the QR Code instance\n",
    "img = qr.make_image(fill_color=\"black\", back_color=\"white\")\n",
    "\n",
    "# Save the image\n",
    "img.save(\"qrcode.png\")\n",
    "\n",
    "# Display the image\n",
    "img.show()\n"
   ]
  },
  {
   "cell_type": "code",
   "execution_count": null,
   "id": "d895ef4b",
   "metadata": {},
   "outputs": [],
   "source": []
  }
 ],
 "metadata": {
  "kernelspec": {
   "display_name": "Python 3 (ipykernel)",
   "language": "python",
   "name": "python3"
  },
  "language_info": {
   "codemirror_mode": {
    "name": "ipython",
    "version": 3
   },
   "file_extension": ".py",
   "mimetype": "text/x-python",
   "name": "python",
   "nbconvert_exporter": "python",
   "pygments_lexer": "ipython3",
   "version": "3.11.5"
  }
 },
 "nbformat": 4,
 "nbformat_minor": 5
}
