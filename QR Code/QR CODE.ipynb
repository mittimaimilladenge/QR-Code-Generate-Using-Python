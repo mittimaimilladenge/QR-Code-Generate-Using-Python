{
 "cells": [
  {
   "cell_type": "code",
   "execution_count": 5,
   "id": "2d9382e5",
   "metadata": {},
   "outputs": [
    {
     "name": "stdout",
     "output_type": "stream",
     "text": [
      "C:\\Users\\ADARSH\\QR Code\n"
     ]
    }
   ],
   "source": [
    "import os\n",
    "print(os.getcwd())"
   ]
  },
  {
   "cell_type": "code",
   "execution_count": 10,
   "id": "32247da2",
   "metadata": {},
   "outputs": [
    {
     "ename": "SyntaxError",
     "evalue": "(unicode error) 'unicodeescape' codec can't decode bytes in position 2-3: truncated \\UXXXXXXXX escape (1567829657.py, line 21)",
     "output_type": "error",
     "traceback": [
      "\u001b[1;36m  Cell \u001b[1;32mIn[10], line 21\u001b[1;36m\u001b[0m\n\u001b[1;33m    raise FileNotFoundError({\"C:\\Users\\ADARSH\\Downloads\\Mitti Mai Milla Denge\\Mitti Mai Milla\\images\\fire.jpg\"})\u001b[0m\n\u001b[1;37m                                                                                                              ^\u001b[0m\n\u001b[1;31mSyntaxError\u001b[0m\u001b[1;31m:\u001b[0m (unicode error) 'unicodeescape' codec can't decode bytes in position 2-3: truncated \\UXXXXXXXX escape\n"
     ]
    }
   ],
   "source": [
    "import qrcode\n",
    "from PIL import Image\n",
    "import os\n",
    "\n",
    "def generate_stylish_qr(data, output_file, color=\"black\", background=\"white\", logo_path=None, logo_size_ratio=0.2):\n",
    "    # Create QR code instance\n",
    "    qr = qrcode.QRCode(\n",
    "        version=1,\n",
    "        error_correction=qrcode.constants.ERROR_CORRECT_H,\n",
    "        box_size=10,\n",
    "        border=4,\n",
    "    )\n",
    "    qr.add_data(data)\n",
    "    qr.make(fit=True)\n",
    "\n",
    "    # Create an image from the QR Code instance\n",
    "    img = qr.make_image(fill_color=color, back_color=background).convert('RGB')\n",
    "\n",
    "    if logo_path:\n",
    "        if not os.path.isfile(logo_path):\n",
    "            raise FileNotFoundError({\"C:\\Users\\ADARSH\\Downloads\\Mitti Mai Milla Denge\\Mitti Mai Milla\\images\\fire.jpg\"})\n",
    "\n",
    "        logo = Image.open(logo_path)\n",
    "        \n",
    "        # Calculate logo size\n",
    "        qr_width, qr_height = img.size\n",
    "        logo_size = int(min(qr_width, qr_height) * logo_size_ratio)\n",
    "        logo = logo.resize((logo_size, logo_size), Image.ANTIALIAS)\n",
    "\n",
    "        # Calculate logo position\n",
    "        pos = ((qr_width - logo_size) // 2, (qr_height - logo_size) // 2)\n",
    "        img.paste(logo, pos, mask=logo)\n",
    "\n",
    "    # Save the QR code to a file\n",
    "    img.save(output_file)\n",
    "    print(f\"QR code saved to {output_file}\")\n",
    "\n",
    "# Example usage\n",
    "data = \"https://www.example.com\"\n",
    "output_file = \"stylish_qr.png\"\n",
    "color = \"darkblue\"  # Change QR code color\n",
    "background = \"white\"  # Change background color\n",
    "\n",
    "# Provide the correct path to your logo file here\n",
    "logo_path = \"C:\\Users\\ADARSH\\Downloads\\Mitti Mai Milla Denge\\Mitti Mai Milla\\images\\fire.jpg\"  # Update this path\n",
    "\n",
    "generate_stylish_qr(data, output_file, color, background, logo_path)\n"
   ]
  },
  {
   "cell_type": "code",
   "execution_count": null,
   "id": "b227635a",
   "metadata": {},
   "outputs": [],
   "source": []
  },
  {
   "cell_type": "code",
   "execution_count": null,
   "id": "d895ef4b",
   "metadata": {},
   "outputs": [],
   "source": []
  }
 ],
 "metadata": {
  "kernelspec": {
   "display_name": "Python 3 (ipykernel)",
   "language": "python",
   "name": "python3"
  },
  "language_info": {
   "codemirror_mode": {
    "name": "ipython",
    "version": 3
   },
   "file_extension": ".py",
   "mimetype": "text/x-python",
   "name": "python",
   "nbconvert_exporter": "python",
   "pygments_lexer": "ipython3",
   "version": "3.11.5"
  }
 },
 "nbformat": 4,
 "nbformat_minor": 5
}
